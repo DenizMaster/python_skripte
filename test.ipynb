{
 "cells": [
  {
   "cell_type": "code",
   "execution_count": 71,
   "metadata": {},
   "outputs": [],
   "source": [
    "    #file zb. = testdaten_29-01-2024-19:31:42_SF_5_BW_400_CR_1_FREQ_2498400000_PWR_-18_samples_100.dat\n",
    "file=\"testdaten_29-01-2024-19:31:42_SF_5_BW_400_CR_1_FREQ_2498400000_PWR_-18_samples_100_.dat\"\n",
    "snr_mean=2\n",
    "rssi_mean=4\n",
    "array_len=100\n",
    "name_array=file.split(\"_\")"
   ]
  },
  {
   "cell_type": "code",
   "execution_count": 72,
   "metadata": {},
   "outputs": [
    {
     "name": "stdout",
     "output_type": "stream",
     "text": [
      "['testdaten', '29-01-2024-19:31:42', 'SF', '5', 'BW', '400', 'CR', '1', 'FREQ', '2498400000', 'PWR', '-18', 'samples', '100', '.dat']\n"
     ]
    }
   ],
   "source": [
    "print(name_array)"
   ]
  },
  {
   "cell_type": "code",
   "execution_count": 73,
   "metadata": {},
   "outputs": [],
   "source": [
    "header_array=[\"CR\",\"SF\",\"BW\",\"Freq\",\"PWR\",\"PER\",\"SNR\",\"RSSI\"]\n",
    "ausgabe_array=[]\n"
   ]
  },
  {
   "cell_type": "code",
   "execution_count": 74,
   "metadata": {},
   "outputs": [
    {
     "name": "stdout",
     "output_type": "stream",
     "text": [
      "7\n"
     ]
    }
   ],
   "source": [
    "print(name_array.index(\"CR\")+1)"
   ]
  },
  {
   "cell_type": "code",
   "execution_count": 75,
   "metadata": {},
   "outputs": [
    {
     "name": "stdout",
     "output_type": "stream",
     "text": [
      "['1']\n"
     ]
    }
   ],
   "source": [
    "ausgabe_array.append(name_array[name_array.index(\"CR\")+1])\n",
    "print(ausgabe_array)"
   ]
  },
  {
   "cell_type": "code",
   "execution_count": 76,
   "metadata": {},
   "outputs": [
    {
     "name": "stdout",
     "output_type": "stream",
     "text": [
      "['1', '5']\n"
     ]
    }
   ],
   "source": [
    "ausgabe_array.append(name_array[name_array.index(\"SF\")+1])\n",
    "print(ausgabe_array)"
   ]
  },
  {
   "cell_type": "code",
   "execution_count": 77,
   "metadata": {},
   "outputs": [
    {
     "name": "stdout",
     "output_type": "stream",
     "text": [
      "['1', '5', '400']\n"
     ]
    }
   ],
   "source": [
    "ausgabe_array.append(name_array[name_array.index(\"BW\")+1])\n",
    "print(ausgabe_array)"
   ]
  },
  {
   "cell_type": "code",
   "execution_count": 78,
   "metadata": {},
   "outputs": [
    {
     "name": "stdout",
     "output_type": "stream",
     "text": [
      "['1', '5', '400', '2498400000']\n"
     ]
    }
   ],
   "source": [
    "ausgabe_array.append(name_array[name_array.index(\"FREQ\")+1])\n",
    "print(ausgabe_array)"
   ]
  },
  {
   "cell_type": "code",
   "execution_count": 79,
   "metadata": {},
   "outputs": [
    {
     "name": "stdout",
     "output_type": "stream",
     "text": [
      "['1', '5', '400', '2498400000', '-18']\n"
     ]
    }
   ],
   "source": [
    "ausgabe_array.append(name_array[name_array.index(\"PWR\")+1])\n",
    "print(ausgabe_array)"
   ]
  },
  {
   "cell_type": "code",
   "execution_count": 80,
   "metadata": {},
   "outputs": [
    {
     "name": "stdout",
     "output_type": "stream",
     "text": [
      "['1', '5', '400', '2498400000', '-18', 1.0]\n"
     ]
    }
   ],
   "source": [
    "ausgabe_array.append(array_len/int(name_array[name_array.index(\"samples\")+1]))\n",
    "print(ausgabe_array)"
   ]
  },
  {
   "cell_type": "code",
   "execution_count": 81,
   "metadata": {},
   "outputs": [
    {
     "name": "stdout",
     "output_type": "stream",
     "text": [
      "['1', '5', '400', '2498400000', '-18', 1.0, 2]\n"
     ]
    }
   ],
   "source": [
    "ausgabe_array.append(snr_mean)\n",
    "print(ausgabe_array)"
   ]
  },
  {
   "cell_type": "code",
   "execution_count": 82,
   "metadata": {},
   "outputs": [
    {
     "name": "stdout",
     "output_type": "stream",
     "text": [
      "['1', '5', '400', '2498400000', '-18', 1.0, 2, 4]\n"
     ]
    }
   ],
   "source": [
    "ausgabe_array.append(rssi_mean)\n",
    "print(ausgabe_array)"
   ]
  }
 ],
 "metadata": {
  "kernelspec": {
   "display_name": ".venv",
   "language": "python",
   "name": "python3"
  },
  "language_info": {
   "codemirror_mode": {
    "name": "ipython",
    "version": 3
   },
   "file_extension": ".py",
   "mimetype": "text/x-python",
   "name": "python",
   "nbconvert_exporter": "python",
   "pygments_lexer": "ipython3",
   "version": "3.10.12"
  }
 },
 "nbformat": 4,
 "nbformat_minor": 2
}
